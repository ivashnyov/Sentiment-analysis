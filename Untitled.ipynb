{
 "cells": [
  {
   "cell_type": "code",
   "execution_count": 44,
   "metadata": {},
   "outputs": [
    {
     "name": "stdout",
     "output_type": "stream",
     "text": [
      "[nltk_data] Downloading package movie_reviews to\n",
      "[nltk_data]     /Users/ivan/nltk_data...\n",
      "[nltk_data]   Package movie_reviews is already up-to-date!\n"
     ]
    }
   ],
   "source": [
    "import nltk\n",
    "nltk.download('movie_reviews')\n",
    "from nltk.corpus import movie_reviews"
   ]
  },
  {
   "cell_type": "markdown",
   "metadata": {},
   "source": [
    "Lists of reviews"
   ]
  },
  {
   "cell_type": "code",
   "execution_count": 45,
   "metadata": {},
   "outputs": [
    {
     "name": "stdout",
     "output_type": "stream",
     "text": [
      "Quantity of reiews:  2000\n"
     ]
    }
   ],
   "source": [
    "ids = movie_reviews.fileids()\n",
    "reviews = [movie_reviews.raw(fileids=[f]) for f in ids]\n",
    "print('Quantity of reiews: ', len(ids))\n",
    "with open('Answers 1/ans1.txt', 'w') as file:\n",
    "    file.write(str(len(ids)))"
   ]
  },
  {
   "cell_type": "markdown",
   "metadata": {},
   "source": [
    "Negative and positive id's"
   ]
  },
  {
   "cell_type": "code",
   "execution_count": 46,
   "metadata": {},
   "outputs": [
    {
     "name": "stdout",
     "output_type": "stream",
     "text": [
      "Quantity of negative reviews:  1000\n",
      "Quantity of positive reviews:  1000\n"
     ]
    }
   ],
   "source": [
    "negids = movie_reviews.fileids('neg')\n",
    "posids = movie_reviews.fileids('pos')\n",
    "negfeats = [movie_reviews.raw(fileids=[f]) for f in negids]\n",
    "posfeats = [movie_reviews.raw(fileids=[f]) for f in posids]\n",
    "print('Quantity of negative reviews: ', len(negids))\n",
    "print('Quantity of positive reviews: ', len(posids))\n",
    "with open('Answers 1/ans2.txt', 'w') as file:\n",
    "    partition = len(posids)/len(ids)\n",
    "    file.write(str(partition))"
   ]
  },
  {
   "cell_type": "markdown",
   "metadata": {},
   "source": [
    "Classes of reviews (negative = 0, positive = 1)"
   ]
  },
  {
   "cell_type": "code",
   "execution_count": 47,
   "metadata": {},
   "outputs": [],
   "source": [
    "y = []\n",
    "for review in ids:\n",
    "    if review in negids:\n",
    "        y.append(0)\n",
    "    else:\n",
    "        y.append(1)"
   ]
  },
  {
   "cell_type": "code",
   "execution_count": 48,
   "metadata": {},
   "outputs": [],
   "source": [
    "from sklearn.feature_extraction.text import CountVectorizer\n",
    "from sklearn.pipeline import Pipeline\n",
    "from sklearn.linear_model import LogisticRegression\n",
    "from sklearn.metrics import accuracy_score, make_scorer, roc_auc_score, auc\n",
    "from sklearn.model_selection import cross_val_score"
   ]
  },
  {
   "cell_type": "markdown",
   "metadata": {},
   "source": [
    "Simple vectorizer"
   ]
  },
  {
   "cell_type": "code",
   "execution_count": 49,
   "metadata": {},
   "outputs": [],
   "source": [
    "vectorizer = CountVectorizer()\n",
    "X = vectorizer.fit_transform(reviews)"
   ]
  },
  {
   "cell_type": "code",
   "execution_count": 50,
   "metadata": {},
   "outputs": [
    {
     "name": "stdout",
     "output_type": "stream",
     "text": [
      "39659\n"
     ]
    }
   ],
   "source": [
    "quantity_of_features = len(vectorizer.get_feature_names())\n",
    "print(quantity_of_features)\n",
    "with open('Answers 1/ans3.txt', 'w') as file:\n",
    "    file.write(str(quantity_of_features))"
   ]
  },
  {
   "cell_type": "markdown",
   "metadata": {},
   "source": [
    "Simple classification with accuracy score"
   ]
  },
  {
   "cell_type": "code",
   "execution_count": 51,
   "metadata": {},
   "outputs": [],
   "source": [
    "clf = LogisticRegression()\n",
    "pipeline = Pipeline([('vect', CountVectorizer()), \n",
    "                     ('clf', LogisticRegression())])\n",
    "result_accuracy = cross_val_score(pipeline, reviews, y, scoring=make_scorer(accuracy_score))"
   ]
  },
  {
   "cell_type": "code",
   "execution_count": 52,
   "metadata": {},
   "outputs": [
    {
     "name": "stdout",
     "output_type": "stream",
     "text": [
      "[0.81437126 0.84684685 0.84684685]\n"
     ]
    }
   ],
   "source": [
    "print(result_accuracy)\n",
    "with open('Answers 1/ans4.txt', 'w') as file:\n",
    "    file.write(str(result_accuracy[1]))"
   ]
  },
  {
   "cell_type": "markdown",
   "metadata": {},
   "source": [
    "And ROC AUC score"
   ]
  },
  {
   "cell_type": "code",
   "execution_count": 53,
   "metadata": {},
   "outputs": [],
   "source": [
    "result_roc_auc = cross_val_score(pipeline, reviews, y, scoring=make_scorer(roc_auc_score))"
   ]
  },
  {
   "cell_type": "code",
   "execution_count": 54,
   "metadata": {},
   "outputs": [
    {
     "name": "stdout",
     "output_type": "stream",
     "text": [
      "[0.81437126 0.84684685 0.84684685]\n"
     ]
    }
   ],
   "source": [
    "print(result_roc_auc)\n",
    "with open('Answers 1/ans5.txt', 'w') as file:\n",
    "    file.write(str(result_roc_auc[1]))"
   ]
  },
  {
   "cell_type": "markdown",
   "metadata": {},
   "source": [
    "Let's find the most important features (words)"
   ]
  },
  {
   "cell_type": "code",
   "execution_count": 55,
   "metadata": {},
   "outputs": [
    {
     "data": {
      "text/plain": [
       "LogisticRegression(C=1.0, class_weight=None, dual=False, fit_intercept=True,\n",
       "          intercept_scaling=1, max_iter=100, multi_class='ovr', n_jobs=1,\n",
       "          penalty='l2', random_state=None, solver='liblinear', tol=0.0001,\n",
       "          verbose=0, warm_start=False)"
      ]
     },
     "execution_count": 55,
     "metadata": {},
     "output_type": "execute_result"
    }
   ],
   "source": [
    "clf.fit(X, y)"
   ]
  },
  {
   "cell_type": "code",
   "execution_count": 56,
   "metadata": {},
   "outputs": [
    {
     "name": "stdout",
     "output_type": "stream",
     "text": [
      "['bad', 'unfortunately', 'worst', 'waste', 'nothing']\n"
     ]
    }
   ],
   "source": [
    "coeffs = clf.coef_[0]\n",
    "mif = [vectorizer.get_feature_names()[list(coeffs).index(i)] for i in sorted(coeffs)[:5]]\n",
    "print(mif)\n",
    "with open('Answers 1/ans6.txt', 'w') as file:\n",
    "    file.write(mif[0] + ' ' + mif[1])"
   ]
  },
  {
   "cell_type": "markdown",
   "metadata": {},
   "source": [
    "Compare CountVectorizer and TfidfVectorizer"
   ]
  },
  {
   "cell_type": "code",
   "execution_count": 57,
   "metadata": {},
   "outputs": [
    {
     "name": "stdout",
     "output_type": "stream",
     "text": [
      "Accuracy for CountVectorizer: 0.841\n",
      "Std for CountVectorizer: 0.01677796173556255\n"
     ]
    }
   ],
   "source": [
    "count_pipeline = Pipeline([('vect', CountVectorizer()), \n",
    "                     ('clf', LogisticRegression())])\n",
    "count_cross_val_score = cross_val_score(count_pipeline, reviews, y, scoring=make_scorer(accuracy_score), cv=5)\n",
    "count_result_accuracy = count_cross_val_score.mean()\n",
    "count_result_std = count_cross_val_score.std()\n",
    "print(\"Accuracy for CountVectorizer:\", count_result_accuracy)\n",
    "print(\"Std for CountVectorizer:\", count_result_std)"
   ]
  },
  {
   "cell_type": "code",
   "execution_count": 58,
   "metadata": {},
   "outputs": [
    {
     "name": "stdout",
     "output_type": "stream",
     "text": [
      "Accuracy for TfidfVectorizer: 0.8210000000000001\n",
      "Std for TfidfVectorizer: 0.004062019202317978\n"
     ]
    }
   ],
   "source": [
    "from sklearn.feature_extraction.text import TfidfVectorizer\n",
    "tfidf_pipeline = Pipeline([('vect', TfidfVectorizer()), \n",
    "                     ('clf', LogisticRegression())])\n",
    "tfidf_cross_val_score = cross_val_score(tfidf_pipeline, reviews, y, scoring=make_scorer(accuracy_score), cv=5)\n",
    "tfidf_result_accuracy = tfidf_cross_val_score.mean()\n",
    "tfidf_result_std = tfidf_cross_val_score.std()\n",
    "print(\"Accuracy for TfidfVectorizer:\", tfidf_result_accuracy)\n",
    "print(\"Std for TfidfVectorizer:\", tfidf_result_std)"
   ]
  },
  {
   "cell_type": "code",
   "execution_count": 59,
   "metadata": {},
   "outputs": [],
   "source": [
    "with open('Answers 2/ans1.txt', 'w') as file:\n",
    "    file.write(str(count_result_accuracy) + ' ' + str(count_result_std) + ' ' +\n",
    "               str(tfidf_result_accuracy) + ' ' + str(tfidf_result_std))"
   ]
  },
  {
   "cell_type": "markdown",
   "metadata": {},
   "source": [
    "Seems like CountVectorizer is better. Let's try to improve it"
   ]
  },
  {
   "cell_type": "code",
   "execution_count": 60,
   "metadata": {},
   "outputs": [
    {
     "name": "stdout",
     "output_type": "stream",
     "text": [
      "Result with min_dfs=10 0.8390000000000001\n",
      "Result with min_dfs=50 0.813\n"
     ]
    }
   ],
   "source": [
    "min_dfs = [10, 50]\n",
    "improved_acc = []\n",
    "for df in min_dfs:\n",
    "    improved_count_pipeline = Pipeline([('vect', CountVectorizer(min_df=df)), \n",
    "                                 ('clf', LogisticRegression())])\n",
    "    improved_acc.append(cross_val_score(improved_count_pipeline, reviews, \n",
    "                                        y, scoring=make_scorer(accuracy_score), cv=5).mean())\n",
    "print(\"Result with min_dfs=10\", improved_acc[0])\n",
    "print(\"Result with min_dfs=50\", improved_acc[1])\n",
    "with open('Answers 2/ans2.txt', 'w') as file:\n",
    "    file.write(str(improved_acc[0]) + ' ' + str(improved_acc[1]))"
   ]
  },
  {
   "cell_type": "markdown",
   "metadata": {},
   "source": [
    "Let's try other classificators"
   ]
  },
  {
   "cell_type": "code",
   "execution_count": null,
   "metadata": {},
   "outputs": [
    {
     "name": "stderr",
     "output_type": "stream",
     "text": [
      "/Users/ivan/anaconda3/lib/python3.6/site-packages/sklearn/linear_model/stochastic_gradient.py:128: FutureWarning: max_iter and tol parameters have been added in <class 'sklearn.linear_model.stochastic_gradient.SGDClassifier'> in 0.19. If both are left unset, they default to max_iter=5 and tol=None. If tol is not None, max_iter defaults to max_iter=1000. From 0.21, default max_iter will be 1000, and default tol will be 1e-3.\n",
      "  \"and default tol will be 1e-3.\" % type(self), FutureWarning)\n",
      "/Users/ivan/anaconda3/lib/python3.6/site-packages/sklearn/linear_model/stochastic_gradient.py:128: FutureWarning: max_iter and tol parameters have been added in <class 'sklearn.linear_model.stochastic_gradient.SGDClassifier'> in 0.19. If both are left unset, they default to max_iter=5 and tol=None. If tol is not None, max_iter defaults to max_iter=1000. From 0.21, default max_iter will be 1000, and default tol will be 1e-3.\n",
      "  \"and default tol will be 1e-3.\" % type(self), FutureWarning)\n",
      "/Users/ivan/anaconda3/lib/python3.6/site-packages/sklearn/linear_model/stochastic_gradient.py:128: FutureWarning: max_iter and tol parameters have been added in <class 'sklearn.linear_model.stochastic_gradient.SGDClassifier'> in 0.19. If both are left unset, they default to max_iter=5 and tol=None. If tol is not None, max_iter defaults to max_iter=1000. From 0.21, default max_iter will be 1000, and default tol will be 1e-3.\n",
      "  \"and default tol will be 1e-3.\" % type(self), FutureWarning)\n",
      "/Users/ivan/anaconda3/lib/python3.6/site-packages/sklearn/linear_model/stochastic_gradient.py:128: FutureWarning: max_iter and tol parameters have been added in <class 'sklearn.linear_model.stochastic_gradient.SGDClassifier'> in 0.19. If both are left unset, they default to max_iter=5 and tol=None. If tol is not None, max_iter defaults to max_iter=1000. From 0.21, default max_iter will be 1000, and default tol will be 1e-3.\n",
      "  \"and default tol will be 1e-3.\" % type(self), FutureWarning)\n",
      "/Users/ivan/anaconda3/lib/python3.6/site-packages/sklearn/linear_model/stochastic_gradient.py:128: FutureWarning: max_iter and tol parameters have been added in <class 'sklearn.linear_model.stochastic_gradient.SGDClassifier'> in 0.19. If both are left unset, they default to max_iter=5 and tol=None. If tol is not None, max_iter defaults to max_iter=1000. From 0.21, default max_iter will be 1000, and default tol will be 1e-3.\n",
      "  \"and default tol will be 1e-3.\" % type(self), FutureWarning)\n"
     ]
    }
   ],
   "source": [
    "from sklearn.linear_model import SGDClassifier\n",
    "from sklearn.svm import LinearSVC\n",
    "\n",
    "lr_pipeline = Pipeline([('vect', CountVectorizer()), \n",
    "                     ('clf', LogisticRegression())])\n",
    "sgd_pipeline = Pipeline([('vect', CountVectorizer()), \n",
    "                     ('clf', SGDClassifier(random_state=42))])\n",
    "svc_pipeline = Pipeline([('vect', CountVectorizer()), \n",
    "                     ('clf', LinearSVC())])\n",
    "\n",
    "lr_cross_val_score = cross_val_score(lr_pipeline, reviews, y, scoring=make_scorer(accuracy_score), cv=5)\n",
    "sgd_cross_val_score = cross_val_score(sgd_pipeline, reviews, y, scoring=make_scorer(accuracy_score), cv=5)\n",
    "svc_cross_val_score = cross_val_score(svc_pipeline, reviews, y, scoring=make_scorer(accuracy_score), cv=5)\n",
    "\n",
    "lr_accuracy = lr_cross_val_score.mean()\n",
    "sgd_accuracy = sgd_cross_val_score.mean()\n",
    "svc_accuracy = svc_cross_val_score.mean()\n",
    "\n",
    "print(\"Accuracy for LinearRegression:\", lr_accuracy)\n",
    "print(\"Accuracy for SGDClassifier:\", sgd_accuracy)\n",
    "print(\"Accuracy for LinearSVC:\", svc_accuracy)\n",
    "\n",
    "with open('Answers 2/ans3.txt', 'w') as file:\n",
    "    file.write(str(min(lr_accuracy, sgd_accuracy, svc_accuracy)))"
   ]
  },
  {
   "cell_type": "code",
   "execution_count": null,
   "metadata": {},
   "outputs": [],
   "source": []
  }
 ],
 "metadata": {
  "kernelspec": {
   "display_name": "Python 3",
   "language": "python",
   "name": "python3"
  },
  "language_info": {
   "codemirror_mode": {
    "name": "ipython",
    "version": 3
   },
   "file_extension": ".py",
   "mimetype": "text/x-python",
   "name": "python",
   "nbconvert_exporter": "python",
   "pygments_lexer": "ipython3",
   "version": "3.6.4"
  }
 },
 "nbformat": 4,
 "nbformat_minor": 2
}
